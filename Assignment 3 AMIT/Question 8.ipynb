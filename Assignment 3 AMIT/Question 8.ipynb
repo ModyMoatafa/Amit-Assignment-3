{
 "cells": [
  {
   "cell_type": "code",
   "execution_count": 16,
   "id": "6535a590",
   "metadata": {},
   "outputs": [],
   "source": [
    "def is_plaindorme(x):\n",
    "    if x < 0:\n",
    "        return False\n",
    "    number = x\n",
    "    reverse = 0\n",
    "    while number:\n",
    "        reverse = reverse*10 + number%10\n",
    "        number //= 10\n",
    "    return x == reverse\n",
    "        "
   ]
  },
  {
   "cell_type": "code",
   "execution_count": 18,
   "id": "8a7f541a",
   "metadata": {},
   "outputs": [
    {
     "name": "stdout",
     "output_type": "stream",
     "text": [
      "101\n",
      "True\n"
     ]
    }
   ],
   "source": [
    "s=101\n",
    "print(s)\n",
    "print(is_plaindorme(s))"
   ]
  }
 ],
 "metadata": {
  "kernelspec": {
   "display_name": "Python 3 (ipykernel)",
   "language": "python",
   "name": "python3"
  },
  "language_info": {
   "codemirror_mode": {
    "name": "ipython",
    "version": 3
   },
   "file_extension": ".py",
   "mimetype": "text/x-python",
   "name": "python",
   "nbconvert_exporter": "python",
   "pygments_lexer": "ipython3",
   "version": "3.11.4"
  }
 },
 "nbformat": 4,
 "nbformat_minor": 5
}
