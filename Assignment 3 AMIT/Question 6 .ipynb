{
 "cells": [
  {
   "cell_type": "code",
   "execution_count": 8,
   "id": "2f54b4ed",
   "metadata": {},
   "outputs": [],
   "source": [
    "def is_even(lst):\n",
    "    evens = []\n",
    "    for i in lst:\n",
    "        if i % 2 == 0:\n",
    "            evens.append(i)\n",
    "    return evens        "
   ]
  },
  {
   "cell_type": "code",
   "execution_count": 9,
   "id": "661c7e9d",
   "metadata": {},
   "outputs": [
    {
     "name": "stdout",
     "output_type": "stream",
     "text": [
      "[2, 4, 6, 8]\n"
     ]
    }
   ],
   "source": [
    "my_list = [1,2,3,4,5,6,7,8,9]\n",
    "print(is_even(my_list))"
   ]
  }
 ],
 "metadata": {
  "kernelspec": {
   "display_name": "Python 3 (ipykernel)",
   "language": "python",
   "name": "python3"
  },
  "language_info": {
   "codemirror_mode": {
    "name": "ipython",
    "version": 3
   },
   "file_extension": ".py",
   "mimetype": "text/x-python",
   "name": "python",
   "nbconvert_exporter": "python",
   "pygments_lexer": "ipython3",
   "version": "3.11.4"
  }
 },
 "nbformat": 4,
 "nbformat_minor": 5
}
