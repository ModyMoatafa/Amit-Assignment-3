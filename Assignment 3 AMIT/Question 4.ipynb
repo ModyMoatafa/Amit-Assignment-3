{
 "cells": [
  {
   "cell_type": "code",
   "execution_count": 1,
   "id": "90e789b8",
   "metadata": {},
   "outputs": [],
   "source": [
    "def max_product(nums):\n",
    "    nums_set = set(nums)\n",
    "    max_pro = float('-inf')\n",
    "    max_n1=None\n",
    "    max_n2=None\n",
    "    for n1 in nums_set:\n",
    "        for n2 in nums_set:\n",
    "            if n1 != n2 and n1*n2 > max_pro:\n",
    "                max_pro = n1*n2\n",
    "                max_n1 = n1\n",
    "                max_n2 = n2\n",
    "    return (max_n1,max_n2)"
   ]
  },
  {
   "cell_type": "code",
   "execution_count": 5,
   "id": "ebe75088",
   "metadata": {},
   "outputs": [
    {
     "name": "stdout",
     "output_type": "stream",
     "text": [
      "(7, 10)\n"
     ]
    }
   ],
   "source": [
    "nums = [10,-22,3,4,5,6,7]\n",
    "print(max_product(nums))"
   ]
  }
 ],
 "metadata": {
  "kernelspec": {
   "display_name": "Python 3 (ipykernel)",
   "language": "python",
   "name": "python3"
  },
  "language_info": {
   "codemirror_mode": {
    "name": "ipython",
    "version": 3
   },
   "file_extension": ".py",
   "mimetype": "text/x-python",
   "name": "python",
   "nbconvert_exporter": "python",
   "pygments_lexer": "ipython3",
   "version": "3.11.4"
  }
 },
 "nbformat": 4,
 "nbformat_minor": 5
}
