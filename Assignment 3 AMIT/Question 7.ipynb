{
 "cells": [
  {
   "cell_type": "code",
   "execution_count": 1,
   "id": "36f4d664",
   "metadata": {},
   "outputs": [],
   "source": [
    "def reverse_sen(sen):\n",
    "    words = sen.split(' ')\n",
    "    reversed_sen = ' '.join(reversed(words))\n",
    "    return reversed_sen"
   ]
  },
  {
   "cell_type": "code",
   "execution_count": 2,
   "id": "2901d344",
   "metadata": {},
   "outputs": [
    {
     "name": "stdout",
     "output_type": "stream",
     "text": [
      "Ahmed Elmostafa\n",
      "Elmostafa Ahmed\n"
     ]
    }
   ],
   "source": [
    "s = \"Ahmed Elmostafa\"\n",
    "print(s)\n",
    "print(reverse_sen(s))"
   ]
  }
 ],
 "metadata": {
  "kernelspec": {
   "display_name": "Python 3 (ipykernel)",
   "language": "python",
   "name": "python3"
  },
  "language_info": {
   "codemirror_mode": {
    "name": "ipython",
    "version": 3
   },
   "file_extension": ".py",
   "mimetype": "text/x-python",
   "name": "python",
   "nbconvert_exporter": "python",
   "pygments_lexer": "ipython3",
   "version": "3.11.4"
  }
 },
 "nbformat": 4,
 "nbformat_minor": 5
}
