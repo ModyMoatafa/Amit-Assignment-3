{
 "cells": [
  {
   "cell_type": "code",
   "execution_count": 3,
   "id": "971c03da",
   "metadata": {},
   "outputs": [],
   "source": [
    "def is_prime(x):\n",
    "    if x==1:\n",
    "        return False\n",
    "    elif x==2:\n",
    "        return True\n",
    "    else:\n",
    "        for num in range(2,x):\n",
    "            if x % num == 0:\n",
    "                return False\n",
    "        return True"
   ]
  },
  {
   "cell_type": "code",
   "execution_count": 7,
   "id": "c3cc2e07",
   "metadata": {},
   "outputs": [
    {
     "name": "stdout",
     "output_type": "stream",
     "text": [
      "False\n"
     ]
    }
   ],
   "source": [
    "print(is_prime(10))"
   ]
  }
 ],
 "metadata": {
  "kernelspec": {
   "display_name": "Python 3 (ipykernel)",
   "language": "python",
   "name": "python3"
  },
  "language_info": {
   "codemirror_mode": {
    "name": "ipython",
    "version": 3
   },
   "file_extension": ".py",
   "mimetype": "text/x-python",
   "name": "python",
   "nbconvert_exporter": "python",
   "pygments_lexer": "ipython3",
   "version": "3.11.4"
  }
 },
 "nbformat": 4,
 "nbformat_minor": 5
}
