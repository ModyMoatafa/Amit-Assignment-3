{
 "cells": [
  {
   "cell_type": "code",
   "execution_count": 1,
   "id": "84757f46",
   "metadata": {},
   "outputs": [],
   "source": [
    "def fibo(x):\n",
    "    if x <= 1:\n",
    "        return x\n",
    "    else:\n",
    "        return (fibo(x-1) + fibo(x-2))"
   ]
  },
  {
   "cell_type": "code",
   "execution_count": 4,
   "id": "5d9f63cf",
   "metadata": {},
   "outputs": [
    {
     "name": "stdout",
     "output_type": "stream",
     "text": [
      "0\n",
      "1\n",
      "1\n",
      "2\n",
      "3\n",
      "5\n",
      "8\n",
      "13\n"
     ]
    }
   ],
   "source": [
    "for i in range(8):\n",
    "    print(fibo(i))"
   ]
  }
 ],
 "metadata": {
  "kernelspec": {
   "display_name": "Python 3 (ipykernel)",
   "language": "python",
   "name": "python3"
  },
  "language_info": {
   "codemirror_mode": {
    "name": "ipython",
    "version": 3
   },
   "file_extension": ".py",
   "mimetype": "text/x-python",
   "name": "python",
   "nbconvert_exporter": "python",
   "pygments_lexer": "ipython3",
   "version": "3.11.4"
  }
 },
 "nbformat": 4,
 "nbformat_minor": 5
}
