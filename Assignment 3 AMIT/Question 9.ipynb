{
 "cells": [
  {
   "cell_type": "code",
   "execution_count": 6,
   "id": "60daa1b2",
   "metadata": {},
   "outputs": [],
   "source": [
    "def is_plaindorme_string(st):\n",
    "    l_pos = 0\n",
    "    r_pos = len(st)-1\n",
    "    while r_pos >= l_pos:\n",
    "        if st[l_pos] != st[r_pos]:\n",
    "            return False\n",
    "        l_pos += 1\n",
    "        r_pos -= 1\n",
    "    return True"
   ]
  },
  {
   "cell_type": "code",
   "execution_count": 9,
   "id": "4598f479",
   "metadata": {},
   "outputs": [
    {
     "name": "stdout",
     "output_type": "stream",
     "text": [
      "mum\n",
      "True\n"
     ]
    }
   ],
   "source": [
    "st = \"mum\"\n",
    "print(st)\n",
    "print(is_plaindorme_string(st))"
   ]
  }
 ],
 "metadata": {
  "kernelspec": {
   "display_name": "Python 3 (ipykernel)",
   "language": "python",
   "name": "python3"
  },
  "language_info": {
   "codemirror_mode": {
    "name": "ipython",
    "version": 3
   },
   "file_extension": ".py",
   "mimetype": "text/x-python",
   "name": "python",
   "nbconvert_exporter": "python",
   "pygments_lexer": "ipython3",
   "version": "3.11.4"
  }
 },
 "nbformat": 4,
 "nbformat_minor": 5
}
