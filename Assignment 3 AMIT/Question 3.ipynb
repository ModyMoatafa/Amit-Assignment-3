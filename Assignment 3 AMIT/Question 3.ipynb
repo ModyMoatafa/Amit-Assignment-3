{
 "cells": [
  {
   "cell_type": "code",
   "execution_count": 3,
   "id": "ee03c78e",
   "metadata": {},
   "outputs": [],
   "source": [
    "def find_pairs(nums , t_value):\n",
    "    nums_set = set(nums)\n",
    "    pairs = []\n",
    "    for x in nums_set :\n",
    "        c = t_value -x\n",
    "        if c in nums_set:\n",
    "            pairs.append({x,c})\n",
    "    return pairs        "
   ]
  },
  {
   "cell_type": "code",
   "execution_count": 4,
   "id": "9c17bc99",
   "metadata": {},
   "outputs": [
    {
     "name": "stdout",
     "output_type": "stream",
     "text": [
      "[{1, 6}, {2, 5}, {3, 4}, {3, 4}, {2, 5}, {1, 6}]\n"
     ]
    }
   ],
   "source": [
    "my_list = [1,2,3,4,5,6]\n",
    "target = 7\n",
    "print(find_pairs(my_list,target))"
   ]
  }
 ],
 "metadata": {
  "kernelspec": {
   "display_name": "Python 3 (ipykernel)",
   "language": "python",
   "name": "python3"
  },
  "language_info": {
   "codemirror_mode": {
    "name": "ipython",
    "version": 3
   },
   "file_extension": ".py",
   "mimetype": "text/x-python",
   "name": "python",
   "nbconvert_exporter": "python",
   "pygments_lexer": "ipython3",
   "version": "3.11.4"
  }
 },
 "nbformat": 4,
 "nbformat_minor": 5
}
