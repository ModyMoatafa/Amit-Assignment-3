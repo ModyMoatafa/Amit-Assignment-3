{
 "cells": [
  {
   "cell_type": "code",
   "execution_count": 8,
   "id": "70e82612",
   "metadata": {},
   "outputs": [],
   "source": [
    "def word_count(words):\n",
    "    word_set=set(words)\n",
    "    word_counts={}\n",
    "    for word in word_set:\n",
    "        word_counts[word] = words.count(word)\n",
    "    return word_counts    "
   ]
  },
  {
   "cell_type": "code",
   "execution_count": 9,
   "id": "38846a25",
   "metadata": {},
   "outputs": [
    {
     "name": "stdout",
     "output_type": "stream",
     "text": [
      "{'green': 1, 'red': 2}\n"
     ]
    }
   ],
   "source": [
    "words = ['red' , 'green' , 'red']\n",
    "print(word_count(words))"
   ]
  }
 ],
 "metadata": {
  "kernelspec": {
   "display_name": "Python 3 (ipykernel)",
   "language": "python",
   "name": "python3"
  },
  "language_info": {
   "codemirror_mode": {
    "name": "ipython",
    "version": 3
   },
   "file_extension": ".py",
   "mimetype": "text/x-python",
   "name": "python",
   "nbconvert_exporter": "python",
   "pygments_lexer": "ipython3",
   "version": "3.11.4"
  }
 },
 "nbformat": 4,
 "nbformat_minor": 5
}
